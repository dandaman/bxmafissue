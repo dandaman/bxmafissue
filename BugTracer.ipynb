{
 "cells": [
  {
   "cell_type": "code",
   "execution_count": 1,
   "metadata": {},
   "outputs": [],
   "source": [
    "import bx.align.maf"
   ]
  },
  {
   "cell_type": "code",
   "execution_count": 2,
   "metadata": {},
   "outputs": [],
   "source": [
    "index = bx.align.maf.MAFIndexedAccess( data_filename=\"test.maf\", index_filename= \"test.idx\",keep_open=False,parse_e_rows=False,use_cache=False)"
   ]
  },
  {
   "cell_type": "code",
   "execution_count": 3,
   "metadata": {},
   "outputs": [],
   "source": [
    "region=\"PT.PT1S09221\"\n",
    "starts=(571-1,124,569)\n",
    "ends=(571,125,573)"
   ]
  },
  {
   "cell_type": "code",
   "execution_count": 4,
   "metadata": {},
   "outputs": [
    {
     "name": "stdout",
     "output_type": "stream",
     "text": [
      "This should result in a block containing position: 570\n",
      "But it results in this position 128\n",
      "From this block\n",
      "a score=0\n",
      "s Anc0.Anc0refChr2144 14846 12 + 17066 GCTGAAGTTGTC\n",
      "s Anc1.Anc1refChr1976 23952 12 + 26847 GCTGAAGTTGGC\n",
      "s Anc3.Anc3refChr8849 25323 12 - 42005 ACTGAATTTGTC\n",
      "s PT.PT1S09221 117 12 - 698 GCTGAAGTTGGC\n",
      "s DO.DO1S00272 61248 12 - 254284 ACTGAATTTGTC\n",
      "s DD.DD1S00008 3297871 12 - 3402286 ACTGAATTTGTC\n",
      "s Anc2.Anc2refChr10093 6507 12 + 7355 GCTGAAGTTGTA\n",
      "s FV.Fvb2 2336068 12 + 29351230 GCTGGAGTTGTA\n",
      "s RO.Ro02 1603951 10 - 40759723 GCTGAA--TGTA\n",
      "\n",
      "This should result in a block containing position: 124\n",
      "But it results in this position 574\n",
      "From this block\n",
      "a score=0\n",
      "s Anc0.Anc0refChr2144 14900 6 + 17066 GACTGG\n",
      "s Anc1.Anc1refChr1976 24021 6 + 26847 GACTGG\n",
      "s Anc3.Anc3refChr8849 25386 6 - 42005 GGTTGG\n",
      "s PT.PT1S09221 569 6 - 698 GACTGG\n",
      "s DO.DO1S00272 61311 6 - 254284 GGTTGG\n",
      "s DD.DD1S00008 3297934 6 - 3402286 GGTTGG\n",
      "s Anc2.Anc2refChr10093 6579 6 + 7355 GGTTGG\n",
      "s FV.Fvb2 2336144 3 + 29351230 --TTT-\n",
      "s RO.Ro02 1604036 6 - 40759723 GGTTGG\n",
      "\n",
      "This should result in a block containing position: 569\n",
      "But it results in this position 126\n",
      "From this block\n",
      "a score=0\n",
      "s Anc0.Anc0refChr2144 14846 12 + 17066 GCTGAAGTTGTC\n",
      "s Anc1.Anc1refChr1976 23952 12 + 26847 GCTGAAGTTGGC\n",
      "s Anc3.Anc3refChr8849 25323 12 - 42005 ACTGAATTTGTC\n",
      "s PT.PT1S09221 117 12 - 698 GCTGAAGTTGGC\n",
      "s DO.DO1S00272 61248 12 - 254284 ACTGAATTTGTC\n",
      "s DD.DD1S00008 3297871 12 - 3402286 ACTGAATTTGTC\n",
      "s Anc2.Anc2refChr10093 6507 12 + 7355 GCTGAAGTTGTA\n",
      "s FV.Fvb2 2336068 12 + 29351230 GCTGGAGTTGTA\n",
      "s RO.Ro02 1603951 10 - 40759723 GCTGAA--TGTA\n",
      "\n"
     ]
    }
   ],
   "source": [
    "for i,n in enumerate(starts):\n",
    "    print(\"This should result in a block containing position: %i\" % starts[i])\n",
    "    for align in index.get(region, starts[i],ends[i]):\n",
    "        region_align = align.slice_by_component(region, starts[i],ends[i])\n",
    "        for component in region_align.components:\n",
    "            if component.src == region:\n",
    "                print(\"But it results in this position %i\" % (component.start+1))\n",
    "                print(\"From this block\")\n",
    "                print(align)"
   ]
  }
 ],
 "metadata": {
  "kernelspec": {
   "display_name": "Python [conda env:bx-python]",
   "language": "python",
   "name": "conda-env-bx-python-py"
  },
  "language_info": {
   "codemirror_mode": {
    "name": "ipython",
    "version": 3
   },
   "file_extension": ".py",
   "mimetype": "text/x-python",
   "name": "python",
   "nbconvert_exporter": "python",
   "pygments_lexer": "ipython3",
   "version": "3.7.1"
  }
 },
 "nbformat": 4,
 "nbformat_minor": 2
}
