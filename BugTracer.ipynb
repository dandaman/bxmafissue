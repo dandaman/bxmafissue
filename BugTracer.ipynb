{
 "cells": [
  {
   "cell_type": "markdown",
   "metadata": {},
   "source": [
    "This demonstrates the behaviour of bx-python's MAF index for positions in alignment blocks on the negative strand and how I dealt with them...See [MAF format description](https://genome.ucsc.edu/FAQ/FAQformat.html#format5) about how strand and start cooridinates for more details.\n",
    "\n",
    "\n",
    "I initially filed and [issue](https://github.com/bxlab/bx-python/issues/61) with bx-python because I was unaware of MAFs representation of `-` strand alignments. See [initial version](https://github.com/dandaman/bxmafissue/blob/Initial/BugTracer.ipynb) of  this notebook."
   ]
  },
  {
   "cell_type": "code",
   "execution_count": 1,
   "metadata": {},
   "outputs": [],
   "source": [
    "import bx.align.maf"
   ]
  },
  {
   "cell_type": "code",
   "execution_count": 2,
   "metadata": {},
   "outputs": [],
   "source": [
    "index = bx.align.maf.MAFIndexedAccess( data_filename=\"test.maf\", index_filename= \"test.idx\",keep_open=False,parse_e_rows=False,use_cache=False)"
   ]
  },
  {
   "cell_type": "code",
   "execution_count": 3,
   "metadata": {},
   "outputs": [],
   "source": [
    "region=\"PT.PT1S09221\"\n",
    "starts=(571-1,124,569)\n",
    "ends=(571,125,573)"
   ]
  },
  {
   "cell_type": "code",
   "execution_count": 17,
   "metadata": {},
   "outputs": [
    {
     "name": "stdout",
     "output_type": "stream",
     "text": [
      "This should result in a block containing position: 570\n",
      "a score=0\n",
      "s Anc0.Anc0refChr2144 14846 12 + 17066 GCTGAAGTTGTC\n",
      "s Anc1.Anc1refChr1976 23952 12 + 26847 GCTGAAGTTGGC\n",
      "s Anc3.Anc3refChr8849 25323 12 - 42005 ACTGAATTTGTC\n",
      "s PT.PT1S09221 117 12 - 698 GCTGAAGTTGGC\n",
      "s DO.DO1S00272 61248 12 - 254284 ACTGAATTTGTC\n",
      "s DD.DD1S00008 3297871 12 - 3402286 ACTGAATTTGTC\n",
      "s Anc2.Anc2refChr10093 6507 12 + 7355 GCTGAAGTTGTA\n",
      "s FV.Fvb2 2336068 12 + 29351230 GCTGGAGTTGTA\n",
      "s RO.Ro02 1603951 10 - 40759723 GCTGAA--TGTA\n",
      "\n",
      "And after revcomplementing it results in this position 570\n",
      "From this block\n",
      "a score=0\n",
      "s Anc0.Anc0refChr2144 2208 12 - 17066 GACAACTTCAGC\n",
      "s Anc1.Anc1refChr1976 2883 12 - 26847 GCCAACTTCAGC\n",
      "s Anc3.Anc3refChr8849 16670 12 + 42005 GACAAATTCAGT\n",
      "s PT.PT1S09221 569 12 + 698 GCCAACTTCAGC\n",
      "s DO.DO1S00272 193024 12 + 254284 GACAAATTCAGT\n",
      "s DD.DD1S00008 104403 12 + 3402286 GACAAATTCAGT\n",
      "s Anc2.Anc2refChr10093 836 12 - 7355 TACAACTTCAGC\n",
      "s FV.Fvb2 27015150 12 - 29351230 TACAACTCCAGC\n",
      "s RO.Ro02 39155762 10 + 40759723 TACA--TTCAGC\n",
      "\n",
      "This should result in a block containing position: 124\n",
      "a score=0\n",
      "s Anc0.Anc0refChr2144 14900 6 + 17066 GACTGG\n",
      "s Anc1.Anc1refChr1976 24021 6 + 26847 GACTGG\n",
      "s Anc3.Anc3refChr8849 25386 6 - 42005 GGTTGG\n",
      "s PT.PT1S09221 569 6 - 698 GACTGG\n",
      "s DO.DO1S00272 61311 6 - 254284 GGTTGG\n",
      "s DD.DD1S00008 3297934 6 - 3402286 GGTTGG\n",
      "s Anc2.Anc2refChr10093 6579 6 + 7355 GGTTGG\n",
      "s FV.Fvb2 2336144 3 + 29351230 --TTT-\n",
      "s RO.Ro02 1604036 6 - 40759723 GGTTGG\n",
      "\n",
      "And after revcomplementing it results in this position 124\n",
      "From this block\n",
      "a score=0\n",
      "s Anc0.Anc0refChr2144 2160 6 - 17066 CCAGTC\n",
      "s Anc1.Anc1refChr1976 2820 6 - 26847 CCAGTC\n",
      "s Anc3.Anc3refChr8849 16613 6 + 42005 CCAACC\n",
      "s PT.PT1S09221 123 6 + 698 CCAGTC\n",
      "s DO.DO1S00272 192967 6 + 254284 CCAACC\n",
      "s DD.DD1S00008 104346 6 + 3402286 CCAACC\n",
      "s Anc2.Anc2refChr10093 770 6 - 7355 CCAACC\n",
      "s FV.Fvb2 27015083 3 - 29351230 -AAA--\n",
      "s RO.Ro02 39155681 6 + 40759723 CCAACC\n",
      "\n",
      "This should result in a block containing position: 569\n",
      "a score=0\n",
      "s Anc0.Anc0refChr2144 14846 12 + 17066 GCTGAAGTTGTC\n",
      "s Anc1.Anc1refChr1976 23952 12 + 26847 GCTGAAGTTGGC\n",
      "s Anc3.Anc3refChr8849 25323 12 - 42005 ACTGAATTTGTC\n",
      "s PT.PT1S09221 117 12 - 698 GCTGAAGTTGGC\n",
      "s DO.DO1S00272 61248 12 - 254284 ACTGAATTTGTC\n",
      "s DD.DD1S00008 3297871 12 - 3402286 ACTGAATTTGTC\n",
      "s Anc2.Anc2refChr10093 6507 12 + 7355 GCTGAAGTTGTA\n",
      "s FV.Fvb2 2336068 12 + 29351230 GCTGGAGTTGTA\n",
      "s RO.Ro02 1603951 10 - 40759723 GCTGAA--TGTA\n",
      "\n",
      "And after revcomplementing it results in this position 569\n",
      "From this block\n",
      "a score=0\n",
      "s Anc0.Anc0refChr2144 2208 12 - 17066 GACAACTTCAGC\n",
      "s Anc1.Anc1refChr1976 2883 12 - 26847 GCCAACTTCAGC\n",
      "s Anc3.Anc3refChr8849 16670 12 + 42005 GACAAATTCAGT\n",
      "s PT.PT1S09221 569 12 + 698 GCCAACTTCAGC\n",
      "s DO.DO1S00272 193024 12 + 254284 GACAAATTCAGT\n",
      "s DD.DD1S00008 104403 12 + 3402286 GACAAATTCAGT\n",
      "s Anc2.Anc2refChr10093 836 12 - 7355 TACAACTTCAGC\n",
      "s FV.Fvb2 27015150 12 - 29351230 TACAACTCCAGC\n",
      "s RO.Ro02 39155762 10 + 40759723 TACA--TTCAGC\n",
      "\n"
     ]
    }
   ],
   "source": [
    "for i,n in enumerate(starts):\n",
    "    print(\"This should result in a block containing position: %i\" % starts[i])\n",
    "    for align in index.get(region, starts[i],ends[i]):\n",
    "        print(align)\n",
    "        strand=\"+\"\n",
    "        for x in align.get_components_by_src(region):\n",
    "            if x.src== region and x.strand == '-':\n",
    "                align=align.reverse_complement()\n",
    "                break\n",
    "        region_align = align.slice_by_component(region, starts[i],ends[i])\n",
    "        for component in region_align.components:\n",
    "            if component.src == region:\n",
    "                print(\"And after revcomplementing it results in this position %i\" % (component.start))\n",
    "                print(\"From this block\")\n",
    "                print(align)"
   ]
  }
 ],
 "metadata": {
  "kernelspec": {
   "display_name": "Python [conda env:bx-python]",
   "language": "python",
   "name": "conda-env-bx-python-py"
  },
  "language_info": {
   "codemirror_mode": {
    "name": "ipython",
    "version": 3
   },
   "file_extension": ".py",
   "mimetype": "text/x-python",
   "name": "python",
   "nbconvert_exporter": "python",
   "pygments_lexer": "ipython3",
   "version": "3.7.1"
  }
 },
 "nbformat": 4,
 "nbformat_minor": 2
}
